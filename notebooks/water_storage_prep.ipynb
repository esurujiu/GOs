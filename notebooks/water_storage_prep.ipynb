{
 "cells": [
  {
   "cell_type": "code",
   "execution_count": 64,
   "id": "e1045b99-d15b-412b-b7fe-63c6d444b997",
   "metadata": {},
   "outputs": [
    {
     "name": "stdout",
     "output_type": "stream",
     "text": [
      "   Country Region  Year  Week StoredEnergy\n",
      "0  Austria   Alps  2019     1    1412194.0\n",
      "1  Austria   Alps  2019     2    1372937.0\n",
      "2  Austria   Alps  2019     3    1326312.0\n",
      "3  Austria   Alps  2019     4    1176602.0\n",
      "4  Austria   Alps  2019     5    1077808.0\n",
      "Rows, Columns: (2226, 5)\n"
     ]
    }
   ],
   "source": [
    "import pandas as pd\n",
    "import glob, os, re\n",
    "import matplotlib.pyplot as plt\n",
    "import datetime\n",
    "\n",
    "files = glob.glob('data/water_*.csv')\n",
    "\n",
    "country_map = {\n",
    "    'water_austria.csv': 'Austria',\n",
    "    'water_france.csv': 'France',\n",
    "    'water_italy.csv': 'Italy',\n",
    "    'water_switzerland.csv': 'Switzerland',\n",
    "    'water_norway.csv': 'Norway',\n",
    "    'water_sweden.csv': 'Sweden'\n",
    "}\n",
    "region_map = {\n",
    "    'Austria': 'Alps', 'France': 'Alps',\n",
    "    'Italy': 'Alps', 'Switzerland': 'Alps',\n",
    "    'Norway': 'Nordics', 'Sweden': 'Nordics'\n",
    "}\n",
    "\n",
    "dfs = []\n",
    "\n",
    "for path in files:\n",
    "    country = country_map[os.path.basename(path)]\n",
    "    df = pd.read_csv(path)\n",
    "\n",
    "    df['Week'] = df['Week'].astype(str).str.extract(r'(\\d+)').astype(int)\n",
    "\n",
    "    long = df.melt(\n",
    "        id_vars='Week',\n",
    "        var_name='YearCol',\n",
    "        value_name='StoredEnergy'\n",
    "    )\n",
    "\n",
    "    long['Year'] = long['YearCol'].str.extract(r'(\\d{4})').astype(int)\n",
    "\n",
    "    long['Country'] = country\n",
    "    long['Region'] = long['Country'].map(region_map)\n",
    "\n",
    "    dfs.append(long[['Country', 'Region', 'Year', 'Week', 'StoredEnergy']])\n",
    "\n",
    "combined_df = pd.concat(dfs, ignore_index=True)\n",
    "\n",
    "combined_df.to_csv('data/water_combined_long.csv', index=False)\n",
    "print(combined_df.head())\n",
    "print('Rows, Columns:', combined_df.shape)\n"
   ]
  }
 ],
 "metadata": {
  "kernelspec": {
   "display_name": "Python 3 (ipykernel)",
   "language": "python",
   "name": "python3"
  },
  "language_info": {
   "codemirror_mode": {
    "name": "ipython",
    "version": 3
   },
   "file_extension": ".py",
   "mimetype": "text/x-python",
   "name": "python",
   "nbconvert_exporter": "python",
   "pygments_lexer": "ipython3",
   "version": "3.13.2"
  }
 },
 "nbformat": 4,
 "nbformat_minor": 5
}
